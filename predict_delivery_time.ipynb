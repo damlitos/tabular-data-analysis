{
 "cells": [
  {
   "cell_type": "markdown",
   "id": "stainless-miller",
   "metadata": {},
   "source": [
    "# Predict delivery time for orders"
   ]
  },
  {
   "cell_type": "markdown",
   "id": "directed-phone",
   "metadata": {},
   "source": [
    "First import necessary packages"
   ]
  },
  {
   "cell_type": "code",
   "execution_count": 1,
   "id": "reserved-pointer",
   "metadata": {},
   "outputs": [],
   "source": [
    "import pandas as pd#to use dataframe\n",
    "from datetime import datetime#to use datatime for conversion\n",
    "import matplotlib.pyplot as plt#for plotting\n",
    "from sklearn.model_selection import train_test_split#to split data into train and test\n",
    "import seaborn as sb#for visualization \n",
    "from sklearn.linear_model import LinearRegression#for linear regression\n",
    "from sklearn.metrics import mean_squared_error#to measure error between real prep time and predicted time\n",
    "from sklearn import datasets, ensemble#to use gradientboostingregressor\n",
    "import numpy as np#to use numpy arrays \n",
    "from sklearn.ensemble import RandomForestRegressor#to use random forest regressor\n",
    "import matplotlib.pyplot as plt#to plot data\n",
    "from sklearn.pipeline import Pipeline#to use standarscaler\n",
    "from sklearn.preprocessing import StandardScaler#to normalize data\n",
    "from sklearn.svm import SVR#to use support vector machines"
   ]
  },
  {
   "cell_type": "markdown",
   "id": "french-sullivan",
   "metadata": {},
   "source": [
    "# Read data"
   ]
  },
  {
   "cell_type": "markdown",
   "id": "adjacent-victoria",
   "metadata": {},
   "source": [
    "Read data into dataframes as it is very convenient to work on df"
   ]
  },
  {
   "cell_type": "code",
   "execution_count": 3,
   "id": "resistant-contract",
   "metadata": {},
   "outputs": [
    {
     "name": "stdout",
     "output_type": "stream",
     "text": [
      "The total number of orders is  32394\n",
      "The total number of restaurants is  1697\n",
      "Feature names for orders data is as follows.  ['order_acknowledged_at' 'order_ready_at' 'order_value_gbp'\n",
      " 'restaurant_id' 'number_of_items' 'prep_time_seconds']\n",
      "Feature names for restaurant data is as follows.  ['restaurant_id' 'country' 'city' 'type_of_food']\n"
     ]
    }
   ],
   "source": [
    "#a function to read data as df\n",
    "def read_data(f_name_order, f_name_rest):\n",
    "    \"\"\"Read the data and return as a dataframe\n",
    "\n",
    "    Parameters\n",
    "    ----------\n",
    "    f_name_order : str \n",
    "        The name of the file which contains order data\n",
    "        \n",
    "    f_name_rest : str \n",
    "        The name of the file which contains restaurant data\n",
    "\n",
    "    returns: dataframe (df) and dataframe (df)\n",
    "            The data for both order and restaurant as df which makes to process data easier\n",
    "\n",
    "    Raises\n",
    "    ------\n",
    "    IOError\n",
    "        If the file is not found\n",
    "\n",
    "    \"\"\" \n",
    "\n",
    "    try:\n",
    "        with open(f_name_order) as fobj:\n",
    "            df_orders = pd.read_csv(f_name_order)\n",
    "  \n",
    "    except IOError:\n",
    "        raise ValueError('File order is not available!')\n",
    "        \n",
    "    try:\n",
    "        with open(f_name_rest) as fobj:\n",
    "            df_rest = pd.read_csv(f_name_rest)\n",
    "  \n",
    "    except IOError:\n",
    "        raise ValueError('File restaurant is not available!')\n",
    "\n",
    "\n",
    "    return df_orders, df_rest\n",
    "\n",
    "\n",
    "#read data\n",
    "df_orders, df_rest = read_data(\"./data/orders.csv\", \"./data/restaurants.csv\")\n",
    " \n",
    "print(\"The total number of orders is \", len(df_orders))\n",
    "print(\"The total number of restaurants is \", len(df_rest))\n",
    "print(\"Feature names for orders data is as follows. \", df_orders.columns.values)\n",
    "print(\"Feature names for restaurant data is as follows. \", df_rest.columns.values)\n"
   ]
  },
  {
   "cell_type": "markdown",
   "id": "czech-effectiveness",
   "metadata": {},
   "source": [
    "# Pre-processing data"
   ]
  },
  {
   "cell_type": "markdown",
   "id": "earned-textbook",
   "metadata": {},
   "source": [
    "Let's first merge restaurant and order data by mapping a resturant id to its correspoding features from restaurants.csv. A restaurant id brings some other features such as type_of_food which might be important to predict the time so we need to include this in orders data."
   ]
  },
  {
   "cell_type": "code",
   "execution_count": 4,
   "id": "eleven-forge",
   "metadata": {},
   "outputs": [
    {
     "data": {
      "text/html": [
       "<div>\n",
       "<style scoped>\n",
       "    .dataframe tbody tr th:only-of-type {\n",
       "        vertical-align: middle;\n",
       "    }\n",
       "\n",
       "    .dataframe tbody tr th {\n",
       "        vertical-align: top;\n",
       "    }\n",
       "\n",
       "    .dataframe thead th {\n",
       "        text-align: right;\n",
       "    }\n",
       "</style>\n",
       "<table border=\"1\" class=\"dataframe\">\n",
       "  <thead>\n",
       "    <tr style=\"text-align: right;\">\n",
       "      <th></th>\n",
       "      <th>restaurant_id</th>\n",
       "      <th>country</th>\n",
       "      <th>city</th>\n",
       "      <th>type_of_food</th>\n",
       "      <th>order_acknowledged_at</th>\n",
       "      <th>order_ready_at</th>\n",
       "      <th>order_value_gbp</th>\n",
       "      <th>number_of_items</th>\n",
       "      <th>prep_time_seconds</th>\n",
       "    </tr>\n",
       "  </thead>\n",
       "  <tbody>\n",
       "    <tr>\n",
       "      <th>0</th>\n",
       "      <td>3</td>\n",
       "      <td>UK</td>\n",
       "      <td>London</td>\n",
       "      <td>thai</td>\n",
       "      <td>2015-06-01 21:27:40.365042+01:00</td>\n",
       "      <td>2015-06-01 21:48:46.831010+01:00</td>\n",
       "      <td>34.8</td>\n",
       "      <td>4</td>\n",
       "      <td>1266</td>\n",
       "    </tr>\n",
       "    <tr>\n",
       "      <th>1</th>\n",
       "      <td>3</td>\n",
       "      <td>UK</td>\n",
       "      <td>London</td>\n",
       "      <td>thai</td>\n",
       "      <td>2015-06-01 21:31:44.126128+01:00</td>\n",
       "      <td>2015-06-01 21:48:41.336221+01:00</td>\n",
       "      <td>140.3</td>\n",
       "      <td>11</td>\n",
       "      <td>1017</td>\n",
       "    </tr>\n",
       "    <tr>\n",
       "      <th>2</th>\n",
       "      <td>3</td>\n",
       "      <td>UK</td>\n",
       "      <td>London</td>\n",
       "      <td>thai</td>\n",
       "      <td>2015-06-01 21:38:14.914586+01:00</td>\n",
       "      <td>2015-06-01 21:48:57.693389+01:00</td>\n",
       "      <td>33.3</td>\n",
       "      <td>5</td>\n",
       "      <td>642</td>\n",
       "    </tr>\n",
       "    <tr>\n",
       "      <th>3</th>\n",
       "      <td>3</td>\n",
       "      <td>UK</td>\n",
       "      <td>London</td>\n",
       "      <td>thai</td>\n",
       "      <td>2015-06-01 21:35:27.039052+01:00</td>\n",
       "      <td>2015-06-01 21:48:52.124863+01:00</td>\n",
       "      <td>19.9</td>\n",
       "      <td>3</td>\n",
       "      <td>805</td>\n",
       "    </tr>\n",
       "    <tr>\n",
       "      <th>4</th>\n",
       "      <td>3</td>\n",
       "      <td>UK</td>\n",
       "      <td>London</td>\n",
       "      <td>thai</td>\n",
       "      <td>2015-06-01 21:46:37.890694+01:00</td>\n",
       "      <td>2015-06-01 21:48:35.800915+01:00</td>\n",
       "      <td>15.9</td>\n",
       "      <td>3</td>\n",
       "      <td>117</td>\n",
       "    </tr>\n",
       "  </tbody>\n",
       "</table>\n",
       "</div>"
      ],
      "text/plain": [
       "   restaurant_id country    city type_of_food  \\\n",
       "0              3      UK  London         thai   \n",
       "1              3      UK  London         thai   \n",
       "2              3      UK  London         thai   \n",
       "3              3      UK  London         thai   \n",
       "4              3      UK  London         thai   \n",
       "\n",
       "              order_acknowledged_at                    order_ready_at  \\\n",
       "0  2015-06-01 21:27:40.365042+01:00  2015-06-01 21:48:46.831010+01:00   \n",
       "1  2015-06-01 21:31:44.126128+01:00  2015-06-01 21:48:41.336221+01:00   \n",
       "2  2015-06-01 21:38:14.914586+01:00  2015-06-01 21:48:57.693389+01:00   \n",
       "3  2015-06-01 21:35:27.039052+01:00  2015-06-01 21:48:52.124863+01:00   \n",
       "4  2015-06-01 21:46:37.890694+01:00  2015-06-01 21:48:35.800915+01:00   \n",
       "\n",
       "   order_value_gbp  number_of_items  prep_time_seconds  \n",
       "0             34.8                4               1266  \n",
       "1            140.3               11               1017  \n",
       "2             33.3                5                642  \n",
       "3             19.9                3                805  \n",
       "4             15.9                3                117  "
      ]
     },
     "execution_count": 4,
     "metadata": {},
     "output_type": "execute_result"
    }
   ],
   "source": [
    "df_data = df_rest.merge(df_orders, on = 'restaurant_id') \n",
    "df_data.head()"
   ]
  },
  {
   "cell_type": "markdown",
   "id": "fifteen-recorder",
   "metadata": {},
   "source": [
    "Now let's check data for missing features. If there were any missing features, we would remove them. But as can be seen, there are no missing features, so no need to drop any instances of features from our data."
   ]
  },
  {
   "cell_type": "code",
   "execution_count": 5,
   "id": "hairy-water",
   "metadata": {},
   "outputs": [
    {
     "name": "stdout",
     "output_type": "stream",
     "text": [
      "The number of NaNs for each feature is as follows.\n",
      "\n",
      "restaurant_id            0\n",
      "country                  0\n",
      "city                     0\n",
      "type_of_food             0\n",
      "order_acknowledged_at    0\n",
      "order_ready_at           0\n",
      "order_value_gbp          0\n",
      "number_of_items          0\n",
      "prep_time_seconds        0\n",
      "dtype: int64\n",
      "\n",
      "The number of nulls for each attribute is as follows. \n",
      "\n",
      "restaurant_id            0\n",
      "country                  0\n",
      "city                     0\n",
      "type_of_food             0\n",
      "order_acknowledged_at    0\n",
      "order_ready_at           0\n",
      "order_value_gbp          0\n",
      "number_of_items          0\n",
      "prep_time_seconds        0\n",
      "dtype: int64\n"
     ]
    }
   ],
   "source": [
    "print('The number of NaNs for each feature is as follows.\\n') \n",
    "print(df_data.isna().sum())\n",
    "print('\\nThe number of nulls for each attribute is as follows. \\n') \n",
    "print(df_data.isnull().sum())"
   ]
  },
  {
   "cell_type": "markdown",
   "id": "sunset-venue",
   "metadata": {},
   "source": [
    "Let's map order_acknowledged_at feature (year, month, day, hour, minute, second) to only hour. This feature is important to understand the busy times of the restaurants which will have a huge impact on the delivery time. \n",
    "We will do this by mapping order_acknowledged_at to only hour information (as a categorical feature). This means we are making 24 time slots in a day to represent each hour of a day. \n",
    "\n",
    "We also plot histogram bins for time slots to understand which times are busy times for the restaurants. As depicted in figure below, the orders are mostly taken from 10 (AM) to 24 and the restaurants are usually busy from 18:00 to 21:00, which makes sense.\n",
    "  "
   ]
  },
  {
   "cell_type": "code",
   "execution_count": 6,
   "id": "floating-trash",
   "metadata": {},
   "outputs": [
    {
     "data": {
      "image/png": "[encoded data removed]",
      "text/plain": [
       "<Figure size 432x288 with 1 Axes>"
      ]
     },
     "metadata": {
      "needs_background": "light"
     },
     "output_type": "display_data"
    }
   ],
   "source": [
    "#do the time mapping\n",
    "df_data['order_acknowledged_at'] = df_data['order_acknowledged_at'].apply(lambda x: pd.to_datetime(x).hour)\n",
    "#plot the new categorical order_acknowledged_at feature.\n",
    "df_data['order_acknowledged_at'].plot.hist(bins=24)\n",
    "plt.title('Time slot distributions')\n",
    "plt.xlabel('Time slots')\n",
    "plt.ylabel('Number of instances')\n",
    "plt.show() "
   ]
  },
  {
   "cell_type": "markdown",
   "id": "baking-ivory",
   "metadata": {},
   "source": [
    "Now, let's remove the feature \"order_ready_at\" since it doesn't add any information. Prep_time_seconds already gives the same information."
   ]
  },
  {
   "cell_type": "code",
   "execution_count": 7,
   "id": "expanded-sphere",
   "metadata": {},
   "outputs": [
    {
     "data": {
      "text/html": [
       "<div>\n",
       "<style scoped>\n",
       "    .dataframe tbody tr th:only-of-type {\n",
       "        vertical-align: middle;\n",
       "    }\n",
       "\n",
       "    .dataframe tbody tr th {\n",
       "        vertical-align: top;\n",
       "    }\n",
       "\n",
       "    .dataframe thead th {\n",
       "        text-align: right;\n",
       "    }\n",
       "</style>\n",
       "<table border=\"1\" class=\"dataframe\">\n",
       "  <thead>\n",
       "    <tr style=\"text-align: right;\">\n",
       "      <th></th>\n",
       "      <th>restaurant_id</th>\n",
       "      <th>country</th>\n",
       "      <th>city</th>\n",
       "      <th>type_of_food</th>\n",
       "      <th>order_acknowledged_at</th>\n",
       "      <th>order_value_gbp</th>\n",
       "      <th>number_of_items</th>\n",
       "      <th>prep_time_seconds</th>\n",
       "    </tr>\n",
       "  </thead>\n",
       "  <tbody>\n",
       "    <tr>\n",
       "      <th>0</th>\n",
       "      <td>3</td>\n",
       "      <td>UK</td>\n",
       "      <td>London</td>\n",
       "      <td>thai</td>\n",
       "      <td>21</td>\n",
       "      <td>34.8</td>\n",
       "      <td>4</td>\n",
       "      <td>1266</td>\n",
       "    </tr>\n",
       "    <tr>\n",
       "      <th>1</th>\n",
       "      <td>3</td>\n",
       "      <td>UK</td>\n",
       "      <td>London</td>\n",
       "      <td>thai</td>\n",
       "      <td>21</td>\n",
       "      <td>140.3</td>\n",
       "      <td>11</td>\n",
       "      <td>1017</td>\n",
       "    </tr>\n",
       "    <tr>\n",
       "      <th>2</th>\n",
       "      <td>3</td>\n",
       "      <td>UK</td>\n",
       "      <td>London</td>\n",
       "      <td>thai</td>\n",
       "      <td>21</td>\n",
       "      <td>33.3</td>\n",
       "      <td>5</td>\n",
       "      <td>642</td>\n",
       "    </tr>\n",
       "    <tr>\n",
       "      <th>3</th>\n",
       "      <td>3</td>\n",
       "      <td>UK</td>\n",
       "      <td>London</td>\n",
       "      <td>thai</td>\n",
       "      <td>21</td>\n",
       "      <td>19.9</td>\n",
       "      <td>3</td>\n",
       "      <td>805</td>\n",
       "    </tr>\n",
       "    <tr>\n",
       "      <th>4</th>\n",
       "      <td>3</td>\n",
       "      <td>UK</td>\n",
       "      <td>London</td>\n",
       "      <td>thai</td>\n",
       "      <td>21</td>\n",
       "      <td>15.9</td>\n",
       "      <td>3</td>\n",
       "      <td>117</td>\n",
       "    </tr>\n",
       "  </tbody>\n",
       "</table>\n",
       "</div>"
      ],
      "text/plain": [
       "   restaurant_id country    city type_of_food  order_acknowledged_at  \\\n",
       "0              3      UK  London         thai                     21   \n",
       "1              3      UK  London         thai                     21   \n",
       "2              3      UK  London         thai                     21   \n",
       "3              3      UK  London         thai                     21   \n",
       "4              3      UK  London         thai                     21   \n",
       "\n",
       "   order_value_gbp  number_of_items  prep_time_seconds  \n",
       "0             34.8                4               1266  \n",
       "1            140.3               11               1017  \n",
       "2             33.3                5                642  \n",
       "3             19.9                3                805  \n",
       "4             15.9                3                117  "
      ]
     },
     "execution_count": 7,
     "metadata": {},
     "output_type": "execute_result"
    }
   ],
   "source": [
    "df_data = df_data.drop(['order_ready_at'], axis=1)\n",
    "df_data.head()"
   ]
  },
  {
   "cell_type": "markdown",
   "id": "recreational-basketball",
   "metadata": {},
   "source": [
    "Now, let's map the following features to numerical categories as they are categorical features"
   ]
  },
  {
   "cell_type": "code",
   "execution_count": 8,
   "id": "oriented-bahrain",
   "metadata": {},
   "outputs": [
    {
     "data": {
      "text/html": [
       "<div>\n",
       "<style scoped>\n",
       "    .dataframe tbody tr th:only-of-type {\n",
       "        vertical-align: middle;\n",
       "    }\n",
       "\n",
       "    .dataframe tbody tr th {\n",
       "        vertical-align: top;\n",
       "    }\n",
       "\n",
       "    .dataframe thead th {\n",
       "        text-align: right;\n",
       "    }\n",
       "</style>\n",
       "<table border=\"1\" class=\"dataframe\">\n",
       "  <thead>\n",
       "    <tr style=\"text-align: right;\">\n",
       "      <th></th>\n",
       "      <th>restaurant_id</th>\n",
       "      <th>country</th>\n",
       "      <th>city</th>\n",
       "      <th>type_of_food</th>\n",
       "      <th>order_acknowledged_at</th>\n",
       "      <th>order_value_gbp</th>\n",
       "      <th>number_of_items</th>\n",
       "      <th>prep_time_seconds</th>\n",
       "    </tr>\n",
       "  </thead>\n",
       "  <tbody>\n",
       "    <tr>\n",
       "      <th>0</th>\n",
       "      <td>3</td>\n",
       "      <td>3</td>\n",
       "      <td>14</td>\n",
       "      <td>78</td>\n",
       "      <td>21</td>\n",
       "      <td>34.8</td>\n",
       "      <td>4</td>\n",
       "      <td>1266</td>\n",
       "    </tr>\n",
       "    <tr>\n",
       "      <th>1</th>\n",
       "      <td>3</td>\n",
       "      <td>3</td>\n",
       "      <td>14</td>\n",
       "      <td>78</td>\n",
       "      <td>21</td>\n",
       "      <td>140.3</td>\n",
       "      <td>11</td>\n",
       "      <td>1017</td>\n",
       "    </tr>\n",
       "    <tr>\n",
       "      <th>2</th>\n",
       "      <td>3</td>\n",
       "      <td>3</td>\n",
       "      <td>14</td>\n",
       "      <td>78</td>\n",
       "      <td>21</td>\n",
       "      <td>33.3</td>\n",
       "      <td>5</td>\n",
       "      <td>642</td>\n",
       "    </tr>\n",
       "    <tr>\n",
       "      <th>3</th>\n",
       "      <td>3</td>\n",
       "      <td>3</td>\n",
       "      <td>14</td>\n",
       "      <td>78</td>\n",
       "      <td>21</td>\n",
       "      <td>19.9</td>\n",
       "      <td>3</td>\n",
       "      <td>805</td>\n",
       "    </tr>\n",
       "    <tr>\n",
       "      <th>4</th>\n",
       "      <td>3</td>\n",
       "      <td>3</td>\n",
       "      <td>14</td>\n",
       "      <td>78</td>\n",
       "      <td>21</td>\n",
       "      <td>15.9</td>\n",
       "      <td>3</td>\n",
       "      <td>117</td>\n",
       "    </tr>\n",
       "  </tbody>\n",
       "</table>\n",
       "</div>"
      ],
      "text/plain": [
       "   restaurant_id  country  city  type_of_food  order_acknowledged_at  \\\n",
       "0              3        3    14            78                     21   \n",
       "1              3        3    14            78                     21   \n",
       "2              3        3    14            78                     21   \n",
       "3              3        3    14            78                     21   \n",
       "4              3        3    14            78                     21   \n",
       "\n",
       "   order_value_gbp  number_of_items  prep_time_seconds  \n",
       "0             34.8                4               1266  \n",
       "1            140.3               11               1017  \n",
       "2             33.3                5                642  \n",
       "3             19.9                3                805  \n",
       "4             15.9                3                117  "
      ]
     },
     "execution_count": 8,
     "metadata": {},
     "output_type": "execute_result"
    }
   ],
   "source": [
    "df_data['type_of_food'] = df_data['type_of_food'].astype('category').cat.codes\n",
    "df_data['country'] = df_data['country'].astype('category').cat.codes\n",
    "df_data['city'] = df_data['city'].astype('category').cat.codes\n",
    "\n",
    "df_data.head()"
   ]
  },
  {
   "cell_type": "markdown",
   "id": "competent-frost",
   "metadata": {},
   "source": [
    "# Exploratory Data Analysis  "
   ]
  },
  {
   "cell_type": "markdown",
   "id": "martial-billy",
   "metadata": {},
   "source": [
    "Except order_value_gp which is a real number, our features are categorical features. Now, let's visualize how features, their distributions and correlation with each other looks like. Firstly, let's start with visualizing correlation between features as a heatmap. The correlation values are numbers between -1 and 1. The negative sign means the features are inversely proportioned to each other and it is the opposite for the positive sign. The higher the number means higher the relationship. As can be seen in figure below, order_value_gbp and number_of_items have relatively higher correlation with each other and with prep_time_seconds, which makes sense. We cannot say there is a very high correlation between any features (>0.5). If it was the case, we would remove one of those features, as they wouldn't bring any information to the data. In other words, we would need to collinearity as Linear regression models we will use below would suffer from overfitting when there is high correlatation between features. "
   ]
  },
  {
   "cell_type": "code",
   "execution_count": 9,
   "id": "coastal-stake",
   "metadata": {},
   "outputs": [
    {
     "data": {
      "image/png": "[encoded data removed]",
      "text/plain": [
       "<Figure size 432x288 with 2 Axes>"
      ]
     },
     "metadata": {
      "needs_background": "light"
     },
     "output_type": "display_data"
    }
   ],
   "source": [
    "def show_feature_correlation(df):\n",
    "    \"\"\"Show a correlation of features as a heatmap\n",
    "\n",
    "    Parameters\n",
    "    ----------\n",
    "    df : dataFrame\n",
    "         data columns as feats where last column is labels\n",
    "\n",
    "    \"\"\"\n",
    "\n",
    "    corr = df.corr()\n",
    "\n",
    "    ax = plt.axes() \n",
    "    heat_map = sb.heatmap(corr, annot = True, cmap=\"YlGnBu\", linewidths=.7, ax = ax)\n",
    "    ax.set_title('Correlation map for features')\n",
    "    plt.show()\n",
    "\n",
    "show_feature_correlation(df_data)"
   ]
  },
  {
   "cell_type": "markdown",
   "id": "combined-fetish",
   "metadata": {},
   "source": [
    "Let's visualise some histogram bins to understand the distribution of some features. Just doing it for type of food below, could do some other features as well."
   ]
  },
  {
   "cell_type": "code",
   "execution_count": 10,
   "id": "identical-vessel",
   "metadata": {},
   "outputs": [
    {
     "data": {
      "image/png": "[encoded data removed]",
      "text/plain": [
       "<Figure size 720x360 with 1 Axes>"
      ]
     },
     "metadata": {
      "needs_background": "light"
     },
     "output_type": "display_data"
    }
   ],
   "source": [
    "df_data.type_of_food.value_counts().nlargest(20).plot(kind='bar', figsize=(10,5))\n",
    "plt.title(\"Number of orders by type of food\")\n",
    "plt.ylabel(\"Number of orders\")\n",
    "plt.xlabel(\"Type of food\"); "
   ]
  },
  {
   "cell_type": "markdown",
   "id": "filled-apple",
   "metadata": {},
   "source": [
    "Let's see how preparation time in seconds change based on the food type. As we can see from figure below, the food sometimes the same type of food takes longer than usual. This might be related to other features such as order acknowledge time, the number of items, etc."
   ]
  },
  {
   "cell_type": "code",
   "execution_count": 45,
   "id": "monetary-democracy",
   "metadata": {},
   "outputs": [
    {
     "data": {
      "image/png": "[encoded data removed]",
      "text/plain": [
       "<Figure size 720x432 with 1 Axes>"
      ]
     },
     "metadata": {
      "needs_background": "light"
     },
     "output_type": "display_data"
    }
   ],
   "source": [
    "fig, ax = plt.subplots(figsize=(10,6))\n",
    "ax.scatter(df_data[\"prep_time_seconds\"], df_data[\"type_of_food\"])\n",
    "ax.set_xlabel(\"Preparation Time\")\n",
    "ax.set_ylabel(\"Type of food\")\n",
    "plt.title('Prep time vs type of food')\n",
    "plt.show()"
   ]
  },
  {
   "cell_type": "markdown",
   "id": "destroyed-boating",
   "metadata": {},
   "source": [
    "# Prepare train and test data"
   ]
  },
  {
   "cell_type": "markdown",
   "id": "mechanical-constant",
   "metadata": {},
   "source": [
    "Let's write a function to split data into train and test."
   ]
  },
  {
   "cell_type": "code",
   "execution_count": 12,
   "id": "banned-definition",
   "metadata": {},
   "outputs": [],
   "source": [
    "def split_data(df, test_ratio):\n",
    "    \"\"\"Split data into train and test sets  \n",
    "\n",
    "    Parameters\n",
    "    ----------\n",
    "    df : dataFrame\n",
    "         data: columns as feats where last column is labels\n",
    "\n",
    "    test_ratio: float\n",
    "          percentage of test data to be splitted\n",
    "\n",
    "    returns: pd.Series, pd.Series, pd.Series, pd.Series, \n",
    "             train features, test features, train labels and test labels\n",
    "\n",
    "    \"\"\"\n",
    "    x_train, x_test, y_train, y_test = train_test_split(df_data.iloc[:,0:-1], df_data.iloc[:, -1],\n",
    "                                                test_size = test_ratio)\n",
    "\n",
    "    return x_train, x_test, y_train, y_test\n",
    "\n",
    "### split train and test data - we use 0.2 as it is the convention\n",
    "x_train, x_test, y_train, y_test = split_data(df_data, 0.2)"
   ]
  },
  {
   "cell_type": "markdown",
   "id": "unnecessary-lebanon",
   "metadata": {},
   "source": [
    "Let's normalize data using StandardScaler to obtain a better fit."
   ]
  },
  {
   "cell_type": "code",
   "execution_count": 13,
   "id": "early-companion",
   "metadata": {},
   "outputs": [],
   "source": [
    "pipeline = Pipeline([('std_scalar', StandardScaler())])\n",
    "x_train = pipeline.fit_transform(x_train)\n",
    "x_test = pipeline.transform(x_test)"
   ]
  },
  {
   "cell_type": "markdown",
   "id": "secure-manchester",
   "metadata": {},
   "source": [
    "# Models to predict the preparation time"
   ]
  },
  {
   "cell_type": "markdown",
   "id": "graduate-assistant",
   "metadata": {},
   "source": [
    "# 1) Linear regressor "
   ]
  },
  {
   "cell_type": "markdown",
   "id": "romance-terrace",
   "metadata": {},
   "source": [
    "Our food preparation time resembles to house price prediction and linear regression is a popular method to predict house prices. Fit the model and predict on the test data and then print the Mean Squared Error (MSE) as it is a good metric to measure the differences between real value and the prediction.Rescale Inputs: Linear regression will often make more reliable predictions if you rescale input variables using standardization or normalization."
   ]
  },
  {
   "cell_type": "code",
   "execution_count": 14,
   "id": "double-shipping",
   "metadata": {},
   "outputs": [
    {
     "name": "stdout",
     "output_type": "stream",
     "text": [
      "MSE error using linear regression:  13880816.619565228\n"
     ]
    }
   ],
   "source": [
    "linear_reg = LinearRegression(normalize=True).fit(x_train, y_train)\n",
    "y_pred_lr = linear_reg.predict(x_test)\n",
    "print(\"MSE error using linear regression: \", mean_squared_error(y_test, y_pred_lr, squared = True))"
   ]
  },
  {
   "cell_type": "markdown",
   "id": "competitive-supervision",
   "metadata": {},
   "source": [
    "# 2) Gradient Boosting Regressor"
   ]
  },
  {
   "cell_type": "markdown",
   "id": "formal-frederick",
   "metadata": {},
   "source": [
    "Let's use Gradient Boosting Regressor from an ensemble of weak prediction models.  "
   ]
  },
  {
   "cell_type": "code",
   "execution_count": 15,
   "id": "centered-roulette",
   "metadata": {},
   "outputs": [
    {
     "name": "stdout",
     "output_type": "stream",
     "text": [
      "MSE error using Gradient Boosting Regressor:  14405823.540991582\n"
     ]
    }
   ],
   "source": [
    "params = {'n_estimators': 300,\n",
    "          'max_depth': 4,\n",
    "          'min_samples_split': 5,\n",
    "          'learning_rate': 0.01,\n",
    "          'loss': 'ls'}\n",
    "\n",
    "gbr_reg = ensemble.GradientBoostingRegressor(**params)\n",
    "gbr_reg.fit(x_train, y_train)\n",
    "y_pred_gr = gbr_reg.predict(x_test)\n",
    "print(\"MSE error using Gradient Boosting Regressor: \", mean_squared_error(y_test, y_pred_gr, squared = True))"
   ]
  },
  {
   "cell_type": "markdown",
   "id": "incident-mercy",
   "metadata": {},
   "source": [
    "Let's see how estimators (the number of boosting stages) are changing the deviance for both train and test data."
   ]
  },
  {
   "cell_type": "code",
   "execution_count": 16,
   "id": "peripheral-tomorrow",
   "metadata": {},
   "outputs": [
    {
     "data": {
      "image/png": "[encoded data removed]",
      "text/plain": [
       "<Figure size 432x432 with 1 Axes>"
      ]
     },
     "metadata": {
      "needs_background": "light"
     },
     "output_type": "display_data"
    }
   ],
   "source": [
    "##let's visualize the change of deviance\n",
    "test_score = np.zeros((params['n_estimators'],), dtype=np.float64)\n",
    "\n",
    "for i, y_pred_gr in enumerate(gbr_reg.staged_predict(x_test)):\n",
    "    test_score[i] = gbr_reg.loss_(y_test, y_pred_gr)\n",
    "\n",
    "fig = plt.figure(figsize=(6, 6))\n",
    "plt.subplot(1, 1, 1)\n",
    "plt.title('Deviance')\n",
    "plt.plot(np.arange(params['n_estimators']) + 1, gbr_reg.train_score_, 'b-',\n",
    "         label='Training Set Deviance')\n",
    "\n",
    "plt.plot(np.arange(params['n_estimators']) + 1, test_score, 'r-',\n",
    "         label='Test Set Deviance')\n",
    "plt.legend(loc='upper right')\n",
    "plt.xlabel('Boosting Iterations')\n",
    "plt.ylabel('Deviance')\n",
    "fig.tight_layout()\n",
    "plt.show()"
   ]
  },
  {
   "cell_type": "markdown",
   "id": "known-dylan",
   "metadata": {},
   "source": [
    "# 3) Random Forest Regressor"
   ]
  },
  {
   "cell_type": "markdown",
   "id": "copyrighted-midwest",
   "metadata": {},
   "source": [
    "Let's also use a Random Forest Regressor to fit  decision trees."
   ]
  },
  {
   "cell_type": "code",
   "execution_count": 17,
   "id": "realistic-membrane",
   "metadata": {},
   "outputs": [
    {
     "name": "stdout",
     "output_type": "stream",
     "text": [
      "MSE error using Random Forest Regression:  13880816.619565228\n"
     ]
    }
   ],
   "source": [
    "rf_reg = RandomForestRegressor(max_depth=2, random_state=0)\n",
    "rf_reg.fit(x_train, y_train)\n",
    "y_pred_rf =  rf_reg.predict(x_test)\n",
    "mse = mean_squared_error(y_test, y_pred_rf, squared = True)\n",
    "print(\"MSE error using Random Forest Regression: \", mean_squared_error(y_test, y_pred_lr, squared = True))"
   ]
  },
  {
   "cell_type": "markdown",
   "id": "gothic-relief",
   "metadata": {},
   "source": [
    "# 4) Support Vector Machine"
   ]
  },
  {
   "cell_type": "code",
   "execution_count": 40,
   "id": "rotary-editor",
   "metadata": {},
   "outputs": [
    {
     "name": "stdout",
     "output_type": "stream",
     "text": [
      "MSE error using SVM:  15078565.240906794\n"
     ]
    }
   ],
   "source": [
    "svm_reg = SVR(kernel='rbf')\n",
    "svm_reg.fit(x_train, y_train)\n",
    "pred_svm = svm_reg.predict(x_test) \n",
    "\n",
    "mse = mean_squared_error(y_test, pred_svm, squared = True)\n",
    "print(\"MSE error using SVM: \", mse)"
   ]
  },
  {
   "cell_type": "code",
   "execution_count": null,
   "id": "impaired-hobby",
   "metadata": {},
   "outputs": [],
   "source": [
    "test_pred = model.predict(x_test)\n",
    "\n",
    "mse = mean_squared_error(y_test, test_pred, squared = True)\n",
    "print(\"MSE error using SVM: \", mse)"
   ]
  },
  {
   "cell_type": "markdown",
   "id": "placed-picking",
   "metadata": {},
   "source": [
    "# Plot abs difference between real preparation times and the predicted times"
   ]
  },
  {
   "cell_type": "markdown",
   "id": "defensive-steps",
   "metadata": {},
   "source": [
    "Plot abs difference between real preparation times and the predicted times by three regressors, namely linear, gradientboosting, randomforest and SVM to understand which one is closer to the real preparation time.\n"
   ]
  },
  {
   "cell_type": "code",
   "execution_count": 43,
   "id": "colonial-cross",
   "metadata": {},
   "outputs": [
    {
     "data": {
      "image/png": "[encoded data removed]",
      "text/plain": [
       "<Figure size 1008x360 with 4 Axes>"
      ]
     },
     "metadata": {
      "needs_background": "light"
     },
     "output_type": "display_data"
    }
   ],
   "source": [
    "fig, ax = plt.subplots(1, 4, figsize=(14, 5))\n",
    "ax[0].plot(np.arange(0, len(y_test)), np.abs(y_pred_lr-y_test))\n",
    "ax[0].set_title(\"Linear Regression\")\n",
    "ax[0].set_xlabel(\"Instance ID\")\n",
    "ax[0].set_ylabel(\"ABS Difference between real and predicted value\")\n",
    "\n",
    "ax[1].plot(np.arange(0, len(y_test)), np.abs(y_pred_gr-y_test))\n",
    "ax[1].set_title(\"Gradient Boosting Regression\") \n",
    "ax[1].set_xlabel(\"Instance ID\")\n",
    "ax[1].set_ylabel(\"ABS Difference between real and predicted value\")\n",
    "\n",
    "ax[2].plot(np.arange(0, len(y_test)), np.abs(y_pred_rf-y_test))\n",
    "ax[2].set_title(\"Random Forest Regression\")\n",
    "ax[2].set_xlabel(\"Instance ID\")\n",
    "ax[2].set_ylabel(\"ABS Difference between real and predicted value\")\n",
    "\n",
    "\n",
    "ax[3].plot(np.arange(0, len(y_test)), np.abs(pred_svm-y_test))\n",
    "ax[3].set_title(\"Support Vector Machine\")\n",
    "ax[3].set_xlabel(\"Instance ID\")\n",
    "ax[3].set_ylabel(\"ABS Difference between real and predicted value\")\n",
    "\n",
    "fig.tight_layout()"
   ]
  },
  {
   "cell_type": "markdown",
   "id": "noble-cowboy",
   "metadata": {},
   "source": [
    "# Conclusion and Future Work"
   ]
  },
  {
   "cell_type": "markdown",
   "id": "macro-alexander",
   "metadata": {},
   "source": [
    "The results show there is not a clear winner. The difference plots (plot above) and figure named \"Prep time vs type of food\" shows that there is outliers in this data. 'Prep time vs type of food' figure tells the same type of food takes much longer than usual for some orders and the figure above shows the models almost perform bad on same orders, most probably these are the outliers. Removing the outliers from data can be future work and then the same analysis could be performed.\n",
    "\n",
    "Future Work\n",
    "1. Remove outliers from data.\n",
    "2. We can try to optimize the parameters for the models.\n",
    "3. We can normalize features using Min-Max scale instead of using standard normalization.\n",
    "4. We can use 10-fold cross validation to understand which method is more robust when train and test data changes.\n",
    "5. We can use other error metrics  such as Mean Absolute Error to compare the models.\n",
    "6. Interpreting the coefficients can be done  for linear regression,\n",
    "7. Perform feature selection to see which ones are better for a good prediction.\n",
    "8. Grid search can be done to fine tune hyper-parameters of SVM."
   ]
  }
 ],
 "metadata": {
  "kernelspec": {
   "display_name": "Python 3",
   "language": "python",
   "name": "python3"
  },
  "language_info": {
   "codemirror_mode": {
    "name": "ipython",
    "version": 3
   },
   "file_extension": ".py",
   "mimetype": "text/x-python",
   "name": "python",
   "nbconvert_exporter": "python",
   "pygments_lexer": "ipython3",
   "version": "3.9.1"
  }
 },
 "nbformat": 4,
 "nbformat_minor": 5
}
