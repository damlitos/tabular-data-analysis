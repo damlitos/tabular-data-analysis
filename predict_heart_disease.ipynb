{
 "cells": [
  {
   "cell_type": "markdown",
   "id": "described-princess",
   "metadata": {},
   "source": [
    "# Heart disease diagnosis"
   ]
  },
  {
   "cell_type": "markdown",
   "id": "fitting-newman",
   "metadata": {},
   "source": [
    "Firstly, let's add the libraries we will need."
   ]
  },
  {
   "cell_type": "code",
   "execution_count": 13,
   "id": "based-sector",
   "metadata": {},
   "outputs": [],
   "source": [
    "import matplotlib.pyplot as plt\n",
    "import numpy as np\n",
    "import pandas as pd\n",
    "import seaborn as sb\n",
    "import seaborn as sns \n",
    "from sklearn.ensemble import ExtraTreesClassifier\n",
    "from sklearn.svm import LinearSVC\n",
    "from sklearn import metrics\n",
    "from sklearn.model_selection import train_test_split\n",
    "from sklearn import preprocessing \n",
    "from sklearn.tree import DecisionTreeClassifier\n",
    "from sklearn.naive_bayes import GaussianNB\n",
    "from sklearn.svm import SVC\n",
    "from sklearn.model_selection import KFold\n",
    "from statistics import mean  "
   ]
  },
  {
   "cell_type": "markdown",
   "id": "arranged-audio",
   "metadata": {},
   "source": [
    "Let's implement a class which reads the data, pre-processes it, visualizes, and builds a classifier and evaluates the success of methods."
   ]
  },
  {
   "cell_type": "code",
   "execution_count": 14,
   "id": "recovered-hepatitis",
   "metadata": {},
   "outputs": [],
   "source": [
    "class strokeClassifier:\n",
    "    \"\"\"A class used to read, process, clean data, builds classifiers and evaluates them\n",
    "    \n",
    "    Attributes\n",
    "    ----------\n",
    "    svm : SVC classifier\n",
    "          Support Vector Classifier\n",
    "    dt: DecisionTreeClassifier\n",
    "        Decision Tree Classifier\n",
    "    nb: GaussianNB\n",
    "        Naive Bayes Classifier\n",
    "    num_feats: Integer\n",
    "               Number of features in the dataset\n",
    "\n",
    "    Methods\n",
    "    -------\n",
    "    read_data(filename)\n",
    "        Reads data into a dataframe\n",
    "        \n",
    "    split_data(df, test_ratio)\n",
    "        Splits dataset into train and test using a ratio\n",
    "        \n",
    "    show_feature_correlation(df)\n",
    "        Calculates feature correlations and shows on a heatmap\n",
    "    \n",
    "    normalize_features(df)\n",
    "        Performs feature scaling into range of 0-1\n",
    "    \n",
    "    preprocess_data(df)\n",
    "        drops NaNs\n",
    "    \n",
    "    evaluate(c_labels, p_labels)\n",
    "        evaluates classifier performances using metrics (accuracy, precision, recall, F-measure)\n",
    "    \n",
    "    rank_features(x_train, y_train)\n",
    "        ranks features based on their importance using a Decision Tree\n",
    "        \n",
    "    cross_validation(df, n_s)\n",
    "        Performs n-fold cross validation using Support Vector Machine\n",
    "    \n",
    "    \"\"\"\n",
    "\n",
    "    \n",
    "    def __init__(self): \n",
    "        \"\"\"\n",
    "        Attributes\n",
    "        ----------\n",
    "        svm : SVC classifier\n",
    "              Support Vector Classifier\n",
    "        dt: DecisionTreeClassifier\n",
    "            Decision Tree Classifier\n",
    "        nb: GaussianNB\n",
    "            Naive Bayes Classifier\n",
    "        num_feats: Integer\n",
    "                Number of features in the dataset\n",
    "        \"\"\"\n",
    "       \n",
    "    \n",
    "        \n",
    "        self.svm = SVC(kernel = 'rbf') # initialize Support Vector Machine Classifier\n",
    "        self.dt = DecisionTreeClassifier() # initialize Decision Tree Classifie\n",
    "        self.nb = GaussianNB() \n",
    "        self.num_feats = 0 # initialize number of features as defauilt to 0, to be set in read_data function\n",
    "    \n",
    "    \n",
    "\n",
    "    def read_data(self, filename):\n",
    "        \"\"\"Read the data and return as a dataframe\n",
    "\n",
    "        Parameters\n",
    "        ----------\n",
    "        filename : str \n",
    "            The name of the file which contains data\n",
    "            \n",
    "        returns: dataframe (df)\n",
    "                The data as a df which makes to process data easier\n",
    "\n",
    "        Raises\n",
    "        ------\n",
    "        IOError\n",
    "            If the file is not found\n",
    "                \n",
    "        \"\"\" \n",
    "        \n",
    "        try:\n",
    "            with open(filename) as fobj:\n",
    "                # read the data and give the column names as listed in the data descripton\n",
    "                df = pd.read_csv(filename, names = ['age', 'sex', 'cp', 'trestbps', 'chol', 'fbs',\n",
    "                                          'restecg', 'thalach', 'exang', 'oldpeak', \n",
    "                                            'slope', 'ca', 'thal', 'label' ])\n",
    "            \n",
    "            # update the number of features based on the input file\n",
    "            self.num_feats = len(df.columns)-1\n",
    "                \n",
    "        except IOError:\n",
    "            raise ValueError('File is not available!')\n",
    "            \n",
    "\n",
    "        return df\n",
    "    \n",
    "    \n",
    "    \n",
    "    \n",
    "    def split_data(self, df, test_ratio):\n",
    "        \"\"\"Split data into train and test sets  \n",
    "\n",
    "        Parameters\n",
    "        ----------\n",
    "        df : dataFrame\n",
    "             data: columns as feats where last column is labels\n",
    "        \n",
    "        test_ratio: float\n",
    "              percentage of test data to be splitted\n",
    "             \n",
    "        returns: pd.Series, pd.Series, pd.Series, pd.Series, \n",
    "                 train features, test features, train labels and test labels\n",
    "       \n",
    "        \"\"\"\n",
    "            \n",
    "        \n",
    "        #use stratify to split so that same percentage of different classes fall into both train and test\n",
    "        x_train, x_test, y_train, y_test = train_test_split(df_data.iloc[:,0:-1], df_data.iloc[:, -1],\n",
    "                                                    test_size = test_ratio,\n",
    "                                                    stratify = df_data.iloc[:, -1])\n",
    "       \n",
    "        \n",
    "        return x_train, x_test, y_train, y_test\n",
    "    \n",
    "        \n",
    "    def show_feature_correlation(self, df):\n",
    "        \"\"\"Show a correlation of features as a heatmap\n",
    "        \n",
    "        Parameters\n",
    "        ----------\n",
    "        df : dataFrame\n",
    "             data columns as feats where last column is labels\n",
    "                \n",
    "        \"\"\"\n",
    "        \n",
    "        corr = df.iloc[:,:-1].corr()\n",
    "        \n",
    "        ax = plt.axes() \n",
    "        heat_map = sb.heatmap(corr, annot = True, cmap=\"YlGnBu\", linewidths=.7, ax = ax)\n",
    "        ax.set_title('Correlation map for features')\n",
    "        plt.show()\n",
    "        \n",
    "    \n",
    "    def normalize_features(self, df):\n",
    "        \n",
    "        \"\"\"Normalize features of df to 0-1\n",
    "\n",
    "        Parameters\n",
    "        ----------\n",
    "        df : dataFrame\n",
    "             data: columns as feats where last column is labels\n",
    "        \n",
    "        returns: dataFrame\n",
    "                 normalized data\n",
    "                \n",
    "        \"\"\"\n",
    "        \n",
    "        min_max_scaler = preprocessing.MinMaxScaler()\n",
    "        x_scaled = min_max_scaler.fit_transform(df)\n",
    "        df.iloc[:, :self.num_feats] = x_scaled[:, :self.num_feats]\n",
    "        \n",
    "        return df\n",
    "        \n",
    "    \n",
    "    def show_class_distributions(self, df):\n",
    "        \"\"\"Calculate the occurrence of each class label and show it as a figure\n",
    "\n",
    "        Parameters\n",
    "        ----------\n",
    "        df : dataFrame\n",
    "             data: columns as feats where last column is labels        \n",
    "        \"\"\"\n",
    "        \n",
    "        df['label'].value_counts().sort_values().plot(kind = 'barh')\n",
    "        plt.title('Class distributions')\n",
    "        plt.ylabel('Class labels')\n",
    "        plt.xlabel('Number of instances')\n",
    "        plt.show()\n",
    "    \n",
    "    \n",
    "    def preprocess_data(self, df):\n",
    "        \n",
    "        \"\"\" Check and preprocess the data\n",
    "            \n",
    "        Parameters\n",
    "        ----------\n",
    "        df : DataFrame (df)\n",
    "            data: columns as feats where last column is labels\n",
    "\n",
    "         returns: dataFrame\n",
    "                 cleaned data\n",
    "        \"\"\" \n",
    "        \n",
    "        #data has some missing values assigned as ?, so replace them by nan\n",
    "        df.replace(\"?\", np.nan, inplace = True)\n",
    "        \n",
    "        \n",
    "        print('Checking the percentage of NaNs for each feature...\\n')\n",
    "        perc = (df.isna().sum(axis = 0)/len(df))*100\n",
    "        \n",
    "        print('\\nThe percentage of NaNs for each attribute is as follows. \\n')\n",
    "        print(perc)\n",
    "         \n",
    "        print('\\nRemoving instances which have NaNs...\\n')  \n",
    "        df = df.dropna()\n",
    "        \n",
    "        print('Mapping class labels to having heart disease or not having it...\\n')  \n",
    "        \n",
    "        df['label'] = df['label'].apply(lambda x: 0 if x==0 else 1)\n",
    "        \n",
    "        return df\n",
    "        \n",
    "        \n",
    "        \n",
    "    def evaluate(self, c_labels, p_labels):\n",
    "        \"\"\" Evaluate the success of a classifier\n",
    "\n",
    "        Parameters\n",
    "        ----------\n",
    "\n",
    "        c_labels: pd.Series \n",
    "            The correct labels of the test instances\n",
    "\n",
    "        p_labels: pd.Series\n",
    "            The labels predicted by the classifier\n",
    "        \n",
    "        returns: float, string/dict, array\n",
    "                accuracy, classification report, confusion matrix\n",
    "             \n",
    "        \"\"\" \n",
    "        \n",
    "        accuracy = metrics.accuracy_score(c_labels, p_labels)\n",
    "        c_report = metrics.classification_report(c_labels, p_labels)\n",
    "        conf_matrix = metrics.confusion_matrix(c_labels, p_labels)\n",
    "\n",
    "        return accuracy, c_report, conf_matrix\n",
    "    \n",
    "    \n",
    "    def rank_features(self, x_train, y_train):\n",
    "        \"\"\" Rank the features based on their importance by using a Tree classifier\n",
    "\n",
    "            Parameters\n",
    "            ----------\n",
    "\n",
    "            x_train: pd.Series \n",
    "                The features\n",
    "\n",
    "            y_train: pdf.Series\n",
    "                The labels \n",
    "\n",
    "        \"\"\" \n",
    "\n",
    "        model = ExtraTreesClassifier()\n",
    "        model.fit(x_train, y_train)\n",
    "        f_imp = model.feature_importances_\n",
    "\n",
    "        #show a bar plot to show the rankings of features\n",
    "        bar_width = 1.\n",
    "        positions = np.arange(len(f_imp))\n",
    "        plt.bar(positions, f_imp, bar_width)\n",
    "        plt.xticks(positions, (x_train.columns), rotation='vertical') \n",
    "        plt.ylabel(\"Importance\")\n",
    "        plt.xlabel(\"Features\")\n",
    "        plt.show()\n",
    "        \n",
    "        \n",
    "        \n",
    "    def cross_validation(self, df, n_s):\n",
    "        \"\"\" Perform cross_validation by splitting the data\n",
    "\n",
    "            Parameters\n",
    "            ----------\n",
    "\n",
    "            df: DataFrame\n",
    "                data: columns as feats where last column is labels\n",
    "            \n",
    "            classifier: sklearn classifier such as gaussian, NB, SVM\n",
    "                        classifier to be used to predict the labels\n",
    "\n",
    "            n_s: Integer\n",
    "                 Number of splits to be used in cross-validation\n",
    "                 \n",
    "            returns: float\n",
    "                 average accuracy for all splits\n",
    "\n",
    "        \"\"\" \n",
    "        \n",
    "        kf = KFold(n_splits=n_s)\n",
    "        kf.get_n_splits(df)\n",
    "\n",
    "        accs = [] # to record the accuracy of each fold\n",
    "        \n",
    "        for train_index, test_index in kf.split(df):\n",
    "\n",
    "            x_train, x_test = df.iloc[train_index,:-1], df.iloc[test_index,:-1]\n",
    "            y_train, y_test = df.iloc[train_index].label, df.iloc[test_index].label\n",
    "\n",
    "            classifier = SVC(kernel = 'rbf')\n",
    "            classifier.fit(x_train, y_train) \n",
    "            y_pred = nb.predict(x_test)\n",
    "            acc, report, conf_matrix = sc.evaluate(y_test, y_pred)\n",
    "\n",
    "            accs.append(acc)\n",
    "\n",
    "        \n",
    "        return mean(accs)"
   ]
  },
  {
   "cell_type": "markdown",
   "id": "rapid-scratch",
   "metadata": {},
   "source": [
    "# Read and pre-process data"
   ]
  },
  {
   "cell_type": "markdown",
   "id": "warming-refund",
   "metadata": {},
   "source": [
    "Now, we are ready to run our experiment using our class strokeClassifier.\n",
    "Let's first create an instance of strokeClassifier, then read our data,"
   ]
  },
  {
   "cell_type": "code",
   "execution_count": 15,
   "id": "disciplinary-religious",
   "metadata": {},
   "outputs": [
    {
     "name": "stdout",
     "output_type": "stream",
     "text": [
      "Number of features is 13\n",
      "Number of instances is 303 \n",
      "\n",
      "Checking the percentage of NaNs for each feature...\n",
      "\n",
      "\n",
      "The percentage of NaNs for each attribute is as follows. \n",
      "\n",
      "age         0.000000\n",
      "sex         0.000000\n",
      "cp          0.000000\n",
      "trestbps    0.000000\n",
      "chol        0.000000\n",
      "fbs         0.000000\n",
      "restecg     0.000000\n",
      "thalach     0.000000\n",
      "exang       0.000000\n",
      "oldpeak     0.000000\n",
      "slope       0.000000\n",
      "ca          1.320132\n",
      "thal        0.660066\n",
      "label       0.000000\n",
      "dtype: float64\n",
      "\n",
      "Removing instances which have NaNs...\n",
      "\n",
      "Mapping class labels to having heart disease or not having it...\n",
      "\n"
     ]
    }
   ],
   "source": [
    "# create instance of strokeClassifier\n",
    "sc = strokeClassifier()\n",
    "\n",
    "# read data\n",
    "df_data = sc.read_data('./data/processed.cleveland.csv')\n",
    "\n",
    "# check number of feats and instances\n",
    "print(\"Number of features is \" + str(sc.num_feats))\n",
    "print(\"Number of instances is \" + str(len(df_data)) + \" \\n\")\n",
    "  \n",
    "# clean data\n",
    "df_data = sc.preprocess_data(df_data)"
   ]
  },
  {
   "cell_type": "markdown",
   "id": "formal-sheep",
   "metadata": {},
   "source": [
    "Let's see some statistics of features to understand how they look like"
   ]
  },
  {
   "cell_type": "code",
   "execution_count": 4,
   "id": "incorrect-attraction",
   "metadata": {},
   "outputs": [
    {
     "data": {
      "text/html": [
       "<div>\n",
       "<style scoped>\n",
       "    .dataframe tbody tr th:only-of-type {\n",
       "        vertical-align: middle;\n",
       "    }\n",
       "\n",
       "    .dataframe tbody tr th {\n",
       "        vertical-align: top;\n",
       "    }\n",
       "\n",
       "    .dataframe thead th {\n",
       "        text-align: right;\n",
       "    }\n",
       "</style>\n",
       "<table border=\"1\" class=\"dataframe\">\n",
       "  <thead>\n",
       "    <tr style=\"text-align: right;\">\n",
       "      <th></th>\n",
       "      <th>age</th>\n",
       "      <th>sex</th>\n",
       "      <th>cp</th>\n",
       "      <th>trestbps</th>\n",
       "      <th>chol</th>\n",
       "      <th>fbs</th>\n",
       "      <th>restecg</th>\n",
       "      <th>thalach</th>\n",
       "      <th>exang</th>\n",
       "      <th>oldpeak</th>\n",
       "      <th>slope</th>\n",
       "      <th>label</th>\n",
       "    </tr>\n",
       "  </thead>\n",
       "  <tbody>\n",
       "    <tr>\n",
       "      <th>count</th>\n",
       "      <td>297.000000</td>\n",
       "      <td>297.000000</td>\n",
       "      <td>297.000000</td>\n",
       "      <td>297.000000</td>\n",
       "      <td>297.000000</td>\n",
       "      <td>297.000000</td>\n",
       "      <td>297.000000</td>\n",
       "      <td>297.000000</td>\n",
       "      <td>297.000000</td>\n",
       "      <td>297.000000</td>\n",
       "      <td>297.000000</td>\n",
       "      <td>297.000000</td>\n",
       "    </tr>\n",
       "    <tr>\n",
       "      <th>mean</th>\n",
       "      <td>54.542088</td>\n",
       "      <td>0.676768</td>\n",
       "      <td>3.158249</td>\n",
       "      <td>131.693603</td>\n",
       "      <td>247.350168</td>\n",
       "      <td>0.144781</td>\n",
       "      <td>0.996633</td>\n",
       "      <td>149.599327</td>\n",
       "      <td>0.326599</td>\n",
       "      <td>1.055556</td>\n",
       "      <td>1.602694</td>\n",
       "      <td>0.461279</td>\n",
       "    </tr>\n",
       "    <tr>\n",
       "      <th>std</th>\n",
       "      <td>9.049736</td>\n",
       "      <td>0.468500</td>\n",
       "      <td>0.964859</td>\n",
       "      <td>17.762806</td>\n",
       "      <td>51.997583</td>\n",
       "      <td>0.352474</td>\n",
       "      <td>0.994914</td>\n",
       "      <td>22.941562</td>\n",
       "      <td>0.469761</td>\n",
       "      <td>1.166123</td>\n",
       "      <td>0.618187</td>\n",
       "      <td>0.499340</td>\n",
       "    </tr>\n",
       "    <tr>\n",
       "      <th>min</th>\n",
       "      <td>29.000000</td>\n",
       "      <td>0.000000</td>\n",
       "      <td>1.000000</td>\n",
       "      <td>94.000000</td>\n",
       "      <td>126.000000</td>\n",
       "      <td>0.000000</td>\n",
       "      <td>0.000000</td>\n",
       "      <td>71.000000</td>\n",
       "      <td>0.000000</td>\n",
       "      <td>0.000000</td>\n",
       "      <td>1.000000</td>\n",
       "      <td>0.000000</td>\n",
       "    </tr>\n",
       "    <tr>\n",
       "      <th>25%</th>\n",
       "      <td>48.000000</td>\n",
       "      <td>0.000000</td>\n",
       "      <td>3.000000</td>\n",
       "      <td>120.000000</td>\n",
       "      <td>211.000000</td>\n",
       "      <td>0.000000</td>\n",
       "      <td>0.000000</td>\n",
       "      <td>133.000000</td>\n",
       "      <td>0.000000</td>\n",
       "      <td>0.000000</td>\n",
       "      <td>1.000000</td>\n",
       "      <td>0.000000</td>\n",
       "    </tr>\n",
       "    <tr>\n",
       "      <th>50%</th>\n",
       "      <td>56.000000</td>\n",
       "      <td>1.000000</td>\n",
       "      <td>3.000000</td>\n",
       "      <td>130.000000</td>\n",
       "      <td>243.000000</td>\n",
       "      <td>0.000000</td>\n",
       "      <td>1.000000</td>\n",
       "      <td>153.000000</td>\n",
       "      <td>0.000000</td>\n",
       "      <td>0.800000</td>\n",
       "      <td>2.000000</td>\n",
       "      <td>0.000000</td>\n",
       "    </tr>\n",
       "    <tr>\n",
       "      <th>75%</th>\n",
       "      <td>61.000000</td>\n",
       "      <td>1.000000</td>\n",
       "      <td>4.000000</td>\n",
       "      <td>140.000000</td>\n",
       "      <td>276.000000</td>\n",
       "      <td>0.000000</td>\n",
       "      <td>2.000000</td>\n",
       "      <td>166.000000</td>\n",
       "      <td>1.000000</td>\n",
       "      <td>1.600000</td>\n",
       "      <td>2.000000</td>\n",
       "      <td>1.000000</td>\n",
       "    </tr>\n",
       "    <tr>\n",
       "      <th>max</th>\n",
       "      <td>77.000000</td>\n",
       "      <td>1.000000</td>\n",
       "      <td>4.000000</td>\n",
       "      <td>200.000000</td>\n",
       "      <td>564.000000</td>\n",
       "      <td>1.000000</td>\n",
       "      <td>2.000000</td>\n",
       "      <td>202.000000</td>\n",
       "      <td>1.000000</td>\n",
       "      <td>6.200000</td>\n",
       "      <td>3.000000</td>\n",
       "      <td>1.000000</td>\n",
       "    </tr>\n",
       "  </tbody>\n",
       "</table>\n",
       "</div>"
      ],
      "text/plain": [
       "              age         sex          cp    trestbps        chol         fbs  \\\n",
       "count  297.000000  297.000000  297.000000  297.000000  297.000000  297.000000   \n",
       "mean    54.542088    0.676768    3.158249  131.693603  247.350168    0.144781   \n",
       "std      9.049736    0.468500    0.964859   17.762806   51.997583    0.352474   \n",
       "min     29.000000    0.000000    1.000000   94.000000  126.000000    0.000000   \n",
       "25%     48.000000    0.000000    3.000000  120.000000  211.000000    0.000000   \n",
       "50%     56.000000    1.000000    3.000000  130.000000  243.000000    0.000000   \n",
       "75%     61.000000    1.000000    4.000000  140.000000  276.000000    0.000000   \n",
       "max     77.000000    1.000000    4.000000  200.000000  564.000000    1.000000   \n",
       "\n",
       "          restecg     thalach       exang     oldpeak       slope       label  \n",
       "count  297.000000  297.000000  297.000000  297.000000  297.000000  297.000000  \n",
       "mean     0.996633  149.599327    0.326599    1.055556    1.602694    0.461279  \n",
       "std      0.994914   22.941562    0.469761    1.166123    0.618187    0.499340  \n",
       "min      0.000000   71.000000    0.000000    0.000000    1.000000    0.000000  \n",
       "25%      0.000000  133.000000    0.000000    0.000000    1.000000    0.000000  \n",
       "50%      1.000000  153.000000    0.000000    0.800000    2.000000    0.000000  \n",
       "75%      2.000000  166.000000    1.000000    1.600000    2.000000    1.000000  \n",
       "max      2.000000  202.000000    1.000000    6.200000    3.000000    1.000000  "
      ]
     },
     "execution_count": 4,
     "metadata": {},
     "output_type": "execute_result"
    }
   ],
   "source": [
    "df_data.describe()"
   ]
  },
  {
   "cell_type": "markdown",
   "id": "fatty-smell",
   "metadata": {},
   "source": [
    "# Normalize features and check class distributions"
   ]
  },
  {
   "cell_type": "markdown",
   "id": "undefined-teaching",
   "metadata": {},
   "source": [
    "Let's normalize the features to a range between 0 and 1 and also check the class distributions to see if there is any imbalance issue"
   ]
  },
  {
   "cell_type": "code",
   "execution_count": 5,
   "id": "arabic-roller",
   "metadata": {},
   "outputs": [
    {
     "data": {
      "image/png": "[encoded data removed]",
      "text/plain": [
       "<Figure size 432x288 with 1 Axes>"
      ]
     },
     "metadata": {
      "needs_background": "light"
     },
     "output_type": "display_data"
    }
   ],
   "source": [
    "#feature scaling\n",
    "df_data = sc.normalize_features(df_data)\n",
    "\n",
    "#plot class distributions\n",
    "sc.show_class_distributions(df_data)"
   ]
  },
  {
   "cell_type": "markdown",
   "id": "japanese-berlin",
   "metadata": {},
   "source": [
    "# Check correlation between features"
   ]
  },
  {
   "cell_type": "markdown",
   "id": "physical-tampa",
   "metadata": {},
   "source": [
    "Let's check how features are correlated with each other"
   ]
  },
  {
   "cell_type": "code",
   "execution_count": 6,
   "id": "exact-antigua",
   "metadata": {},
   "outputs": [
    {
     "data": {
      "image/png": "[encoded data removed]",
      "text/plain": [
       "<Figure size 432x288 with 2 Axes>"
      ]
     },
     "metadata": {
      "needs_background": "light"
     },
     "output_type": "display_data"
    }
   ],
   "source": [
    "sc.show_feature_correlation(df_data)"
   ]
  },
  {
   "cell_type": "markdown",
   "id": "comparative-oliver",
   "metadata": {},
   "source": [
    "# Split data into train and test "
   ]
  },
  {
   "cell_type": "markdown",
   "id": "excited-tunisia",
   "metadata": {},
   "source": [
    "Now, it is time to split our data into train and test sets.\n",
    "A ratio of 0.2 vs 0.8 is used for test vs train data respectively."
   ]
  },
  {
   "cell_type": "code",
   "execution_count": 7,
   "id": "tight-advance",
   "metadata": {},
   "outputs": [],
   "source": [
    "#split the data into train and test\n",
    "x_train, x_test, y_train, y_test = sc.split_data(df_data, 0.2)"
   ]
  },
  {
   "cell_type": "markdown",
   "id": "indian-silver",
   "metadata": {},
   "source": [
    "# Start running the classifiers"
   ]
  },
  {
   "cell_type": "markdown",
   "id": "advance-heaven",
   "metadata": {},
   "source": [
    "## Suppor Vector Machine classifier"
   ]
  },
  {
   "cell_type": "markdown",
   "id": "artistic-financing",
   "metadata": {},
   "source": [
    "Now, lets's use Support Vector Machines (SVMs) to predict heart disease."
   ]
  },
  {
   "cell_type": "code",
   "execution_count": 8,
   "id": "first-dollar",
   "metadata": {},
   "outputs": [
    {
     "name": "stdout",
     "output_type": "stream",
     "text": [
      "Accuracy:  0.85\n",
      "Detailed Report \n",
      "               precision    recall  f1-score   support\n",
      "\n",
      "           0       0.83      0.91      0.87        32\n",
      "           1       0.88      0.79      0.83        28\n",
      "\n",
      "    accuracy                           0.85        60\n",
      "   macro avg       0.85      0.85      0.85        60\n",
      "weighted avg       0.85      0.85      0.85        60\n",
      "\n",
      "Confusion Matrix \n",
      " [[29  3]\n",
      " [ 6 22]]\n"
     ]
    }
   ],
   "source": [
    "#initialize SVM classifier\n",
    "svm = sc.svm \n",
    "#fit train data to model\n",
    "svm.fit(x_train, y_train)\n",
    "#predict on test data\n",
    "y_pred = svm.predict(x_test)\n",
    "#evaluate\n",
    "acc, report, conf_m = sc.evaluate(y_test, y_pred)\n",
    "\n",
    "print('Accuracy: ', acc)\n",
    "print('Detailed Report \\n', report)\n",
    "print('Confusion Matrix \\n', conf_m)"
   ]
  },
  {
   "cell_type": "markdown",
   "id": "dense-genetics",
   "metadata": {},
   "source": [
    "## Decision Tree Classifier"
   ]
  },
  {
   "cell_type": "markdown",
   "id": "developing-virtue",
   "metadata": {},
   "source": [
    " Now, let's perform the same experiment using decision tree classifier."
   ]
  },
  {
   "cell_type": "code",
   "execution_count": 9,
   "id": "expressed-nickel",
   "metadata": {},
   "outputs": [
    {
     "name": "stdout",
     "output_type": "stream",
     "text": [
      "Accuracy:  0.7166666666666667\n",
      "Detailed Report \n",
      "               precision    recall  f1-score   support\n",
      "\n",
      "           0       0.71      0.78      0.75        32\n",
      "           1       0.72      0.64      0.68        28\n",
      "\n",
      "    accuracy                           0.72        60\n",
      "   macro avg       0.72      0.71      0.71        60\n",
      "weighted avg       0.72      0.72      0.71        60\n",
      "\n",
      "Confusion Matrix \n",
      " [[25  7]\n",
      " [10 18]]\n"
     ]
    }
   ],
   "source": [
    "dt = sc.dt\n",
    "dt.fit(x_train, y_train) \n",
    "y_pred = dt.predict(x_test)\n",
    "acc, report, conf_m = sc.evaluate(y_test, y_pred)\n",
    "\n",
    "print('Accuracy: ', acc)\n",
    "print('Detailed Report \\n', report)\n",
    "print('Confusion Matrix \\n', conf_m)"
   ]
  },
  {
   "cell_type": "markdown",
   "id": "continental-holocaust",
   "metadata": {},
   "source": [
    "## Naive Bayes classifier"
   ]
  },
  {
   "cell_type": "markdown",
   "id": "digital-florida",
   "metadata": {},
   "source": [
    "Now, let's perform the same experiment with Naive Bayes classifier."
   ]
  },
  {
   "cell_type": "code",
   "execution_count": 10,
   "id": "fitted-parker",
   "metadata": {},
   "outputs": [
    {
     "name": "stdout",
     "output_type": "stream",
     "text": [
      "Accuracy:  0.7166666666666667\n",
      "Detailed Report \n",
      "               precision    recall  f1-score   support\n",
      "\n",
      "           0       0.71      0.78      0.75        32\n",
      "           1       0.72      0.64      0.68        28\n",
      "\n",
      "    accuracy                           0.72        60\n",
      "   macro avg       0.72      0.71      0.71        60\n",
      "weighted avg       0.72      0.72      0.71        60\n",
      "\n",
      "Confusion Matrix \n",
      " [[25  7]\n",
      " [10 18]]\n"
     ]
    }
   ],
   "source": [
    "nb = sc.nb\n",
    "nb.fit(x_train, y_train) \n",
    "y_pred = nb.predict(x_test)\n",
    "sc.evaluate(y_test, y_pred)\n",
    "\n",
    "print('Accuracy: ', acc)\n",
    "print('Detailed Report \\n', report)\n",
    "print('Confusion Matrix \\n', conf_m)"
   ]
  },
  {
   "cell_type": "markdown",
   "id": "strategic-pharmacy",
   "metadata": {},
   "source": [
    "# Perform 10-fold cross validation"
   ]
  },
  {
   "cell_type": "markdown",
   "id": "median-hampton",
   "metadata": {},
   "source": [
    "Let's choose SVM as a classifier and see\n",
    "how it is performing on 10-fold cross validation \n",
    "as it is a better way to measure classifier success."
   ]
  },
  {
   "cell_type": "code",
   "execution_count": 11,
   "id": "greenhouse-locator",
   "metadata": {},
   "outputs": [
    {
     "name": "stdout",
     "output_type": "stream",
     "text": [
      "Average accuracy of 10-fold cross validation:  0.8514942528735633\n"
     ]
    }
   ],
   "source": [
    "#perform 10-fold cross validation \n",
    "acc = sc.cross_validation(df_data, 10)\n",
    "print(\"Average accuracy of 10-fold cross validation: \", acc)"
   ]
  },
  {
   "cell_type": "markdown",
   "id": "intimate-floor",
   "metadata": {},
   "source": [
    "# Perform feature selection"
   ]
  },
  {
   "cell_type": "markdown",
   "id": "engaging-daisy",
   "metadata": {},
   "source": [
    "Now, let's check the importance of each feature by feature selection using a decision tree."
   ]
  },
  {
   "cell_type": "code",
   "execution_count": 12,
   "id": "willing-facility",
   "metadata": {},
   "outputs": [
    {
     "data": {
      "image/png": "[encoded data removed]",
      "text/plain": [
       "<Figure size 432x288 with 1 Axes>"
      ]
     },
     "metadata": {
      "needs_background": "light"
     },
     "output_type": "display_data"
    }
   ],
   "source": [
    "sc.rank_features(x_train, y_train)"
   ]
  }
 ],
 "metadata": {
  "kernelspec": {
   "display_name": "Python 3",
   "language": "python",
   "name": "python3"
  },
  "language_info": {
   "codemirror_mode": {
    "name": "ipython",
    "version": 3
   },
   "file_extension": ".py",
   "mimetype": "text/x-python",
   "name": "python",
   "nbconvert_exporter": "python",
   "pygments_lexer": "ipython3",
   "version": "3.9.1"
  }
 },
 "nbformat": 4,
 "nbformat_minor": 5
}
